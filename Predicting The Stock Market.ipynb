{
 "cells": [
  {
   "cell_type": "markdown",
   "metadata": {},
   "source": [
    "# Predicting The Stock Market\n",
    "\n",
    "I'll be using historical data on the price of the S&P500 Index to make predictions about future prices. Predicting whether an index will go up or down will help us forecast how the stock market as a whole will perform. "
   ]
  },
  {
   "cell_type": "code",
   "execution_count": 1,
   "metadata": {},
   "outputs": [],
   "source": [
    "import numpy as np\n",
    "import pandas as pd\n",
    "import matplotlib.pyplot as plt\n",
    "from sklearn.linear_model import LinearRegression  \n",
    "from sklearn.metrics import mean_absolute_error\n",
    "%matplotlib inline\n",
    "import seaborn as sns\n",
    "from datetime import datetime"
   ]
  },
  {
   "cell_type": "code",
   "execution_count": 2,
   "metadata": {},
   "outputs": [],
   "source": [
    "stocks=pd.read_csv('sphist.csv')"
   ]
  },
  {
   "cell_type": "code",
   "execution_count": 3,
   "metadata": {},
   "outputs": [],
   "source": [
    "# Sort the data by date in ascending order\n",
    "stocks['Date']=pd.to_datetime(stocks['Date'])\n",
    "stocks=stocks.sort_values(by='Date').reset_index().drop('index',axis=1)"
   ]
  },
  {
   "cell_type": "markdown",
   "metadata": {},
   "source": [
    "## Features Creation "
   ]
  },
  {
   "cell_type": "code",
   "execution_count": 4,
   "metadata": {},
   "outputs": [],
   "source": [
    "# Calculate moving averages of 5, 30, and 365 days\n",
    "for n in [5,30,365]:\n",
    "    average_prices=[]\n",
    "    for index,row in stocks.iterrows():\n",
    "        if index<n:\n",
    "            average_prices.append(np.nan)\n",
    "        if index>=n:\n",
    "            prior_prices=stocks['Close'][index-n:index]\n",
    "            average_price=prior_prices.mean()\n",
    "            average_prices.append(average_price)\n",
    "    stocks[f'ma_{n}']=average_prices\n",
    "\n",
    "# Calculate standard deviations of prices of prior 5, 30, and 365 days \n",
    "for n in [5,30,365]:\n",
    "    std_devs=[]\n",
    "    for index,row in stocks.iterrows():\n",
    "        if index<n:\n",
    "            std_devs.append(np.nan)\n",
    "        if index>=n:\n",
    "            prior_prices=stocks['Close'][index-n:index]\n",
    "            std_dev=prior_prices.std()\n",
    "            std_devs.append(std_dev)\n",
    "    stocks[f'std_dev_{n}']=std_devs\n",
    "\n",
    "stocks.dropna(inplace=True)\n",
    "stocks['ma_5_365_ratio']=stocks['ma_5']/stocks['ma_365']\n",
    "stocks['std_dev_5_365_ratio']=stocks['std_dev_5']/stocks['std_dev_365']"
   ]
  },
  {
   "cell_type": "code",
   "execution_count": 5,
   "metadata": {},
   "outputs": [],
   "source": [
    "# Create train/test sets\n",
    "train=stocks[stocks[\"Date\"] < datetime(year=2013, month=1, day=1)]\n",
    "test=stocks[stocks[\"Date\"] >= datetime(year=2013, month=1, day=1)]"
   ]
  },
  {
   "cell_type": "code",
   "execution_count": 6,
   "metadata": {},
   "outputs": [
    {
     "data": {
      "text/plain": [
       "16.14243964355485"
      ]
     },
     "execution_count": 6,
     "metadata": {},
     "output_type": "execute_result"
    }
   ],
   "source": [
    "# Use linear regression to predict stock prices\n",
    "features=['ma_5','ma_30','ma_365']\n",
    "target='Close'\n",
    "lr=LinearRegression()\n",
    "lr.fit(train[features],train[target])\n",
    "predictions=lr.predict(test[features])\n",
    "mae=mean_absolute_error(test['Close'],predictions)\n",
    "mae"
   ]
  },
  {
   "cell_type": "code",
   "execution_count": 7,
   "metadata": {},
   "outputs": [
    {
     "data": {
      "text/plain": [
       "16.214387095799886"
      ]
     },
     "execution_count": 7,
     "metadata": {},
     "output_type": "execute_result"
    }
   ],
   "source": [
    "# Fit the model with more features\n",
    "features=['ma_5','ma_30','ma_365','std_dev_5','std_dev_30','std_dev_365']\n",
    "target='Close'\n",
    "lr=LinearRegression()\n",
    "lr.fit(train[features],train[target])\n",
    "predictions=lr.predict(test[features])\n",
    "mae=mean_absolute_error(test['Close'],predictions)\n",
    "mae"
   ]
  },
  {
   "cell_type": "code",
   "execution_count": null,
   "metadata": {},
   "outputs": [],
   "source": []
  }
 ],
 "metadata": {
  "kernelspec": {
   "display_name": "Python 3",
   "language": "python",
   "name": "python3"
  },
  "language_info": {
   "codemirror_mode": {
    "name": "ipython",
    "version": 3
   },
   "file_extension": ".py",
   "mimetype": "text/x-python",
   "name": "python",
   "nbconvert_exporter": "python",
   "pygments_lexer": "ipython3",
   "version": "3.7.6"
  }
 },
 "nbformat": 4,
 "nbformat_minor": 4
}
